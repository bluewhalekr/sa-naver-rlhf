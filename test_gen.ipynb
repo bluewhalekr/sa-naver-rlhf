{
 "cells": [
  {
   "cell_type": "code",
   "id": "initial_id",
   "metadata": {
    "collapsed": true,
    "ExecuteTime": {
     "end_time": "2024-10-17T05:25:34.844912Z",
     "start_time": "2024-10-17T05:25:33.687559Z"
    }
   },
   "source": [
    "from question_generator import QuestionGenerator\n",
    "from mocks import _tmp_get_image_questions"
   ],
   "outputs": [],
   "execution_count": 1
  },
  {
   "metadata": {
    "ExecuteTime": {
     "end_time": "2024-10-17T05:25:34.847624Z",
     "start_time": "2024-10-17T05:25:34.845879Z"
    }
   },
   "cell_type": "code",
   "source": [
    "image_infos = _tmp_get_image_questions(3).image_infos\n",
    "image_urls = [info.image_url for info in image_infos]"
   ],
   "id": "adbc87174398e712",
   "outputs": [],
   "execution_count": 2
  },
  {
   "metadata": {
    "ExecuteTime": {
     "end_time": "2024-10-17T05:25:48.193285Z",
     "start_time": "2024-10-17T05:25:34.848157Z"
    }
   },
   "cell_type": "code",
   "source": [
    "qg = QuestionGenerator()\n",
    "response = qg.generate(image_urls)"
   ],
   "id": "bc4780df9815a13",
   "outputs": [],
   "execution_count": 3
  },
  {
   "metadata": {
    "ExecuteTime": {
     "end_time": "2024-10-17T05:25:48.199303Z",
     "start_time": "2024-10-17T05:25:48.195049Z"
    }
   },
   "cell_type": "code",
   "source": "response.questions",
   "id": "1c4c4a4f60a31a1a",
   "outputs": [
    {
     "data": {
      "text/plain": [
       "['세 이미지에서 각각의 주요 요소는 무엇인가요?',\n",
       " '이 이미지들에서 공통적으로 나타나는 테마는 무엇인가요?',\n",
       " '두 번째 이미지의 동물과 세 번째 이미지의 배경이 잘 어울리는 조합은 무엇일까요?',\n",
       " '세 번째 이미지를 배경으로 한다면 첫 번째 이미지의 객체를 이용해 어떤 요리를 추천할 수 있을까요?',\n",
       " '각 이미지 속에서 나타나는 색상을 리스트로 작성해주세요.',\n",
       " '세 번째 이미지의 배경을 어린이에게 쉽게 설명해 주세요.',\n",
       " '두 번째 이미지의 동물을 첫 번째 이미지의 배경에 넣으면 어떤 새로운 분위기가 생길까요?',\n",
       " '첫 번째 이미지의 산물과 두 번째 이미지 동물의 유사점은 무엇일까요?']"
      ]
     },
     "execution_count": 4,
     "metadata": {},
     "output_type": "execute_result"
    }
   ],
   "execution_count": 4
  },
  {
   "metadata": {
    "ExecuteTime": {
     "end_time": "2024-10-17T05:25:48.205209Z",
     "start_time": "2024-10-17T05:25:48.200414Z"
    }
   },
   "cell_type": "code",
   "source": "response.total_price",
   "id": "7b1565462791df35",
   "outputs": [
    {
     "data": {
      "text/plain": [
       "0.01351"
      ]
     },
     "execution_count": 5,
     "metadata": {},
     "output_type": "execute_result"
    }
   ],
   "execution_count": 5
  },
  {
   "metadata": {
    "ExecuteTime": {
     "end_time": "2024-10-17T05:25:48.207397Z",
     "start_time": "2024-10-17T05:25:48.206095Z"
    }
   },
   "cell_type": "code",
   "source": "",
   "id": "fd28246aa4d404c4",
   "outputs": [],
   "execution_count": 5
  }
 ],
 "metadata": {
  "kernelspec": {
   "display_name": "Python 3",
   "language": "python",
   "name": "python3"
  },
  "language_info": {
   "codemirror_mode": {
    "name": "ipython",
    "version": 2
   },
   "file_extension": ".py",
   "mimetype": "text/x-python",
   "name": "python",
   "nbconvert_exporter": "python",
   "pygments_lexer": "ipython2",
   "version": "2.7.6"
  }
 },
 "nbformat": 4,
 "nbformat_minor": 5
}
