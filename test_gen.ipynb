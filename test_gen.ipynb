{
 "cells": [
  {
   "cell_type": "code",
   "id": "initial_id",
   "metadata": {
    "collapsed": true,
    "ExecuteTime": {
     "end_time": "2024-10-17T05:10:28.357503Z",
     "start_time": "2024-10-17T05:10:27.252210Z"
    }
   },
   "source": [
    "from question_generator import QuestionGenerator\n",
    "from mocks import _tmp_get_image_questions"
   ],
   "outputs": [],
   "execution_count": 1
  },
  {
   "metadata": {
    "ExecuteTime": {
     "end_time": "2024-10-17T05:11:03.030846Z",
     "start_time": "2024-10-17T05:11:03.029059Z"
    }
   },
   "cell_type": "code",
   "source": [
    "image_infos = _tmp_get_image_questions(3).image_infos\n",
    "image_urls = [info.image_url for info in image_infos]"
   ],
   "id": "adbc87174398e712",
   "outputs": [],
   "execution_count": 5
  },
  {
   "metadata": {
    "ExecuteTime": {
     "end_time": "2024-10-17T05:11:13.326814Z",
     "start_time": "2024-10-17T05:11:03.292688Z"
    }
   },
   "cell_type": "code",
   "source": [
    "qg = QuestionGenerator()\n",
    "response = qg.generate(image_urls)"
   ],
   "id": "bc4780df9815a13",
   "outputs": [],
   "execution_count": 6
  },
  {
   "metadata": {
    "ExecuteTime": {
     "end_time": "2024-10-17T05:16:54.703920Z",
     "start_time": "2024-10-17T05:16:54.701505Z"
    }
   },
   "cell_type": "code",
   "source": "response.questions",
   "id": "1c4c4a4f60a31a1a",
   "outputs": [
    {
     "data": {
      "text/plain": [
       "['첫 번째 사진 속 감자의 모양을 설명해줘.',\n",
       " '두 번째 이미지의 말과 세 번째 이미지의 초가집이 각각 어떤 용도로 사용될까?',\n",
       " '세 이미지 중 가장 부드러운 질감을 느낄 수 있는 것은 어떤 것일까요?',\n",
       " '사진 속 소재들을 사용하여 전통적인 농촌의 하루를 설명할 수 있을까요?',\n",
       " '세 이미지에서 자연과 관련된 요소를 각각 하나씩 찾아 설명해줘.']"
      ]
     },
     "execution_count": 8,
     "metadata": {},
     "output_type": "execute_result"
    }
   ],
   "execution_count": 8
  },
  {
   "metadata": {
    "ExecuteTime": {
     "end_time": "2024-10-17T05:16:58.295928Z",
     "start_time": "2024-10-17T05:16:58.292769Z"
    }
   },
   "cell_type": "code",
   "source": "response.total_price",
   "id": "7b1565462791df35",
   "outputs": [
    {
     "data": {
      "text/plain": [
       "0.01219"
      ]
     },
     "execution_count": 9,
     "metadata": {},
     "output_type": "execute_result"
    }
   ],
   "execution_count": 9
  },
  {
   "metadata": {},
   "cell_type": "code",
   "outputs": [],
   "execution_count": null,
   "source": "",
   "id": "fd28246aa4d404c4"
  }
 ],
 "metadata": {
  "kernelspec": {
   "display_name": "Python 3",
   "language": "python",
   "name": "python3"
  },
  "language_info": {
   "codemirror_mode": {
    "name": "ipython",
    "version": 2
   },
   "file_extension": ".py",
   "mimetype": "text/x-python",
   "name": "python",
   "nbconvert_exporter": "python",
   "pygments_lexer": "ipython2",
   "version": "2.7.6"
  }
 },
 "nbformat": 4,
 "nbformat_minor": 5
}
